{
 "cells": [
  {
   "cell_type": "markdown",
   "metadata": {},
   "source": [
    "### Feature Extraction with parselmouth\n",
    "\n",
    "The code below extracts the mean pitch, mean intensity, and duration of the `.wav` files in the data directory.\n",
    "\n",
    "For more example scripts, check out [the parselmouth docs](https://parselmouth.readthedocs.io/en/stable/examples.html) and [this helpful repo of scripts](https://github.com/drfeinberg/PraatScripts)."
   ]
  },
  {
   "cell_type": "code",
   "execution_count": 9,
   "metadata": {},
   "outputs": [],
   "source": [
    "# Import statements\n",
    "\n",
    "import glob\n",
    "import re\n",
    "import parselmouth\n",
    "from parselmouth.praat import call"
   ]
  },
  {
   "cell_type": "code",
   "execution_count": 18,
   "metadata": {},
   "outputs": [],
   "source": [
    "# Go through all the wav files in the data folder and \n",
    "# write out the mean pitch, mean intensity, and duration.\n",
    "\n",
    "# We'll write this info out to a file.\n",
    "f = open(\"/Users/emilypx/Desktop/ps4/features.csv\", \"w\")\n",
    "\n",
    "f.write(\"filename,mean-pitch,mean-intensity,duration,gender\" + \"\\n\")\n",
    "\n",
    "for wav_file in glob.glob(\"/Users/emilypx/Desktop/ps4/data/*.wav\"):\n",
    "    \n",
    "    # First remove the full path info and just get file name.\n",
    "    # I'm using regular expressions to do this. See the documentation\n",
    "    # for the re library for more information.\n",
    "    filename = re.sub(\"^.*\\/\", \"\", wav_file)\n",
    "    \n",
    "    # Identify man vs. woman using file naming conventions.\n",
    "    gender = 1\n",
    "    if filename[0] == \"M\":\n",
    "        gender = 0;\n",
    "\n",
    "    # Get the three features using parselmouth.\n",
    "    sound = parselmouth.Sound(wav_file)\n",
    "    pitch = call(sound, \"To Pitch\", 0, 75, 600) \n",
    "    meanpitch = call(pitch, \"Get mean\", 0, 0, \"Hertz\")\n",
    "    intensity = call(sound, \"To Intensity\", 75, 0, \"yes\")\n",
    "    meanintensity = call(intensity, \"Get mean\", 0, 0, \"energy\")\n",
    "    duration = call(sound, \"Get total duration\")\n",
    "\n",
    "    # Write filename, features, and gender out to a csv file.\n",
    "    f.write(filename + \",\" + str(meanpitch) + \",\" + str(meanintensity) + \",\" + str(duration) + \",\" + str(gender) + \"\\n\")\n",
    "    \n",
    "f.close()\n",
    "\n",
    "\n"
   ]
  },
  {
   "cell_type": "code",
   "execution_count": null,
   "metadata": {},
   "outputs": [],
   "source": []
  }
 ],
 "metadata": {
  "kernelspec": {
   "display_name": "Python 3",
   "language": "python",
   "name": "python3"
  },
  "language_info": {
   "codemirror_mode": {
    "name": "ipython",
    "version": 3
   },
   "file_extension": ".py",
   "mimetype": "text/x-python",
   "name": "python",
   "nbconvert_exporter": "python",
   "pygments_lexer": "ipython3",
   "version": "3.7.3"
  }
 },
 "nbformat": 4,
 "nbformat_minor": 2
}
